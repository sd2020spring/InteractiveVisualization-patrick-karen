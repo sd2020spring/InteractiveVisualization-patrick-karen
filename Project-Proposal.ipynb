Project Proposal (due Wednesday)

    What is the main idea of your project? What topics will you explore and what will you generate? What is your minimum viable product? What is a stretch goal?
    What types of users will your project be designed for (document potential accessibility issues)?
    What are your learning goals for this project (for each member)?
    What libraries are you planning to use? (if you don’t know enough yet, please outline how you will decide this question during the beginning phase of the project).
    What do you plan to accomplish by the mid-project check-in? (See below for some generic goals; edit to suit your particular project)
    What do you view as the biggest risks to you being successful on this project? How will you mitigate them?
