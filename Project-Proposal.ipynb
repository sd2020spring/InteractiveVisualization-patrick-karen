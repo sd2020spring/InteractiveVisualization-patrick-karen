{
 "cells": [
  {
   "cell_type": "markdown",
   "metadata": {},
   "source": [
    "# MP4 Project Proposal"
   ]
  },
  {
   "cell_type": "markdown",
   "metadata": {},
   "source": [
    "### Your proposal document should address:\n",
    "\n",
    "   - What is the main idea of your project? What topics will you explore and what will you generate? What is your minimum viable product? What is a stretch goal?\n",
    "   - What types of users will your project be designed for (document potential accessibility issues)?\n",
    "   - What are your learning goals for this project (for each member)?\n",
    "   - What libraries are you planning to use? (if you don’t know enough yet, please outline how you will decide this question during the beginning phase of the project).\n",
    "   - What do you plan to accomplish by the mid-project check-in? (See below for some generic goals; edit to suit your particular project)\n",
    "   - What do you view as the biggest risks to you being successful on this project? How will you mitigate them?"
   ]
  },
  {
   "cell_type": "code",
   "execution_count": null,
   "metadata": {},
   "outputs": [],
   "source": []
  }
 ],
 "metadata": {
  "kernelspec": {
   "display_name": "Python 3",
   "language": "python",
   "name": "python3"
  },
  "language_info": {
   "codemirror_mode": {
    "name": "ipython",
    "version": 3
   },
   "file_extension": ".py",
   "mimetype": "text/x-python",
   "name": "python",
   "nbconvert_exporter": "python",
   "pygments_lexer": "ipython3",
   "version": "3.7.4"
  }
 },
 "nbformat": 4,
 "nbformat_minor": 2
}
