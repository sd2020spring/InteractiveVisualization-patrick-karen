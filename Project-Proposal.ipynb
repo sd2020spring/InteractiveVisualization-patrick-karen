{
 "cells": [
  {
   "cell_type": "markdown",
   "metadata": {},
   "source": [
    "# MP4 Project Proposal"
   ]
  },
  {
   "cell_type": "markdown",
   "metadata": {},
   "source": [
    "### Our project ideas are:\n",
    "\n",
    "1. Very simple Flappy Bird\n",
    "2. Randomly generated maze\n",
    "\n",
    "### The questions:\n",
    "\n",
    "__What is the main idea of your project? What topics will you explore and what will you generate? What is your minimum viable product? What is a stretch goal?__\n",
    "\n",
    "The main idea of the project is to keep it simple! We would like to develop a fun but simple game since we want to walk away from this project with a working model. The topics that we will explore are classes, random object generation, and Model-View-Controller pattern. The MVP is a super simple moving character through a obstacle course. The stretch goal is better graphics, \"gravity\" possibly, and more complexity in the obstacles.\n",
    "\n",
    " __What types of users will your project be designed for (document potential accessibility issues)?__\n",
    " \n",
    "People looking for simple fun! This project will target young people without accessibility issues, and although visual capability is required, this project likely will not be heavily color-reliant.\n",
    "\n",
    "__What are your learning goals for this project (for each member)?__\n",
    "\n",
    "Both of our learning goals are to learn classes, MVC, and also be comfortable creating a project from scratch.\n",
    "\n",
    "__What libraries are you planning to use? (if you don’t know enough yet, please outline how you will decide this question during the beginning phase of the project).__\n",
    "\n",
    "We will be using pygame and random.\n",
    "\n",
    "__What do you plan to accomplish by the mid-project check-in? (See below for some generic goals; edit to suit your particular project)__\n",
    "\n",
    "We have the full framework written out -- the functions and classes don't necessarily have to be filled out, but each one should have a defined purpose and how they relate to other things in the bigger scheme of things. \n",
    "\n",
    "__What do you view as the biggest risks to you being successful on this project? How will you mitigate them?__\n",
    "\n",
    "The biggest risks is probably time commitment from the both of us, and if we get enough support from resources that we need since we are both novice programmers. We will try our best to make NINJA hours and ask questions to the professors during class."
   ]
  },
  {
   "cell_type": "code",
   "execution_count": null,
   "metadata": {},
   "outputs": [],
   "source": []
  }
 ],
 "metadata": {
  "kernelspec": {
   "display_name": "Python 3",
   "language": "python",
   "name": "python3"
  },
  "language_info": {
   "codemirror_mode": {
    "name": "ipython",
    "version": 3
   },
   "file_extension": ".py",
   "mimetype": "text/x-python",
   "name": "python",
   "nbconvert_exporter": "python",
   "pygments_lexer": "ipython3",
   "version": "3.7.4"
  }
 },
 "nbformat": 4,
 "nbformat_minor": 2
}
